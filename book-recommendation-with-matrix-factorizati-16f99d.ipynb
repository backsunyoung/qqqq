{
 "cells": [
  {
   "cell_type": "code",
   "execution_count": 1,
   "id": "d0fe8a60",
   "metadata": {
    "_cell_guid": "b1076dfc-b9ad-4769-8c92-a6c4dae69d19",
    "_uuid": "8f2839f25d086af736a60e9eeb907d3b93b6e0e5",
    "execution": {
     "iopub.execute_input": "2023-01-17T16:31:58.748185Z",
     "iopub.status.busy": "2023-01-17T16:31:58.747623Z",
     "iopub.status.idle": "2023-01-17T16:31:58.776922Z",
     "shell.execute_reply": "2023-01-17T16:31:58.775874Z"
    },
    "papermill": {
     "duration": 0.049781,
     "end_time": "2023-01-17T16:31:58.780070",
     "exception": false,
     "start_time": "2023-01-17T16:31:58.730289",
     "status": "completed"
    },
    "tags": []
   },
   "outputs": [
    {
     "name": "stdout",
     "output_type": "stream",
     "text": [
      "/kaggle/input/book-recommendation-dataset/Ratings.csv\n",
      "/kaggle/input/book-recommendation-dataset/Users.csv\n",
      "/kaggle/input/book-recommendation-dataset/Books.csv\n"
     ]
    }
   ],
   "source": [
    "# This Python 3 environment comes with many helpful analytics libraries installed\n",
    "# It is defined by the kaggle/python Docker image: https://github.com/kaggle/docker-python\n",
    "# For example, here's several helpful packages to load\n",
    "\n",
    "import numpy as np # linear algebra\n",
    "import pandas as pd # data processing, CSV file I/O (e.g. pd.read_csv)\n",
    "\n",
    "# Input data files are available in the read-only \"../input/\" directory\n",
    "# For example, running this (by clicking run or pressing Shift+Enter) will list all files under the input directory\n",
    "\n",
    "import os\n",
    "for dirname, _, filenames in os.walk('/kaggle/input'):\n",
    "    for filename in filenames:\n",
    "        print(os.path.join(dirname, filename))\n",
    "\n",
    "# You can write up to 20GB to the current directory (/kaggle/working/) that gets preserved as output when you create a version using \"Save & Run All\" \n",
    "# You can also write temporary files to /kaggle/temp/, but they won't be saved outside of the current session"
   ]
  },
  {
   "cell_type": "code",
   "execution_count": 2,
   "id": "3c558a1a",
   "metadata": {
    "execution": {
     "iopub.execute_input": "2023-01-17T16:31:58.804784Z",
     "iopub.status.busy": "2023-01-17T16:31:58.804182Z",
     "iopub.status.idle": "2023-01-17T16:32:01.338844Z",
     "shell.execute_reply": "2023-01-17T16:32:01.337840Z"
    },
    "papermill": {
     "duration": 2.548405,
     "end_time": "2023-01-17T16:32:01.341459",
     "exception": false,
     "start_time": "2023-01-17T16:31:58.793054",
     "status": "completed"
    },
    "tags": []
   },
   "outputs": [
    {
     "name": "stderr",
     "output_type": "stream",
     "text": [
      "/opt/conda/lib/python3.7/site-packages/IPython/core/interactiveshell.py:3552: DtypeWarning: Columns (3) have mixed types.Specify dtype option on import or set low_memory=False.\n",
      "  exec(code_obj, self.user_global_ns, self.user_ns)\n"
     ]
    }
   ],
   "source": [
    "#read all the input files\n",
    "books = pd.read_csv(\"C:\\Users\\Sunyoung back\\.kaggle\\Books.xlsx\")"
   ]
  },
  {
   "cell_type": "code",
   "execution_count": 3,
   "id": "cedb7db5",
   "metadata": {
    "execution": {
     "iopub.execute_input": "2023-01-17T16:32:01.364748Z",
     "iopub.status.busy": "2023-01-17T16:32:01.364369Z",
     "iopub.status.idle": "2023-01-17T16:32:02.609530Z",
     "shell.execute_reply": "2023-01-17T16:32:02.608591Z"
    },
    "papermill": {
     "duration": 1.260582,
     "end_time": "2023-01-17T16:32:02.612083",
     "exception": false,
     "start_time": "2023-01-17T16:32:01.351501",
     "status": "completed"
    },
    "tags": []
   },
   "outputs": [],
   "source": [
    "users = pd.read_csv(\"C:\\Users\\Sunyoung back\\.kaggle\\Users.xlsx\")\n",
    "ratings = pd.read_csv(\"../input/book-recommendation-dataset/Ratings.xlsx\")"
   ]
  },
  {
   "cell_type": "code",
   "execution_count": 4,
   "id": "ed3783d2",
   "metadata": {
    "execution": {
     "iopub.execute_input": "2023-01-17T16:32:02.633166Z",
     "iopub.status.busy": "2023-01-17T16:32:02.632763Z",
     "iopub.status.idle": "2023-01-17T16:32:02.655247Z",
     "shell.execute_reply": "2023-01-17T16:32:02.654172Z"
    },
    "papermill": {
     "duration": 0.035846,
     "end_time": "2023-01-17T16:32:02.657671",
     "exception": false,
     "start_time": "2023-01-17T16:32:02.621825",
     "status": "completed"
    },
    "tags": []
   },
   "outputs": [
    {
     "data": {
      "text/html": [
       "<div>\n",
       "<style scoped>\n",
       "    .dataframe tbody tr th:only-of-type {\n",
       "        vertical-align: middle;\n",
       "    }\n",
       "\n",
       "    .dataframe tbody tr th {\n",
       "        vertical-align: top;\n",
       "    }\n",
       "\n",
       "    .dataframe thead th {\n",
       "        text-align: right;\n",
       "    }\n",
       "</style>\n",
       "<table border=\"1\" class=\"dataframe\">\n",
       "  <thead>\n",
       "    <tr style=\"text-align: right;\">\n",
       "      <th></th>\n",
       "      <th>ISBN</th>\n",
       "      <th>Book-Title</th>\n",
       "      <th>Book-Author</th>\n",
       "      <th>Year-Of-Publication</th>\n",
       "      <th>Publisher</th>\n",
       "      <th>Image-URL-S</th>\n",
       "      <th>Image-URL-M</th>\n",
       "      <th>Image-URL-L</th>\n",
       "    </tr>\n",
       "  </thead>\n",
       "  <tbody>\n",
       "    <tr>\n",
       "      <th>0</th>\n",
       "      <td>0195153448</td>\n",
       "      <td>Classical Mythology</td>\n",
       "      <td>Mark P. O. Morford</td>\n",
       "      <td>2002</td>\n",
       "      <td>Oxford University Press</td>\n",
       "      <td>http://images.amazon.com/images/P/0195153448.0...</td>\n",
       "      <td>http://images.amazon.com/images/P/0195153448.0...</td>\n",
       "      <td>http://images.amazon.com/images/P/0195153448.0...</td>\n",
       "    </tr>\n",
       "    <tr>\n",
       "      <th>1</th>\n",
       "      <td>0002005018</td>\n",
       "      <td>Clara Callan</td>\n",
       "      <td>Richard Bruce Wright</td>\n",
       "      <td>2001</td>\n",
       "      <td>HarperFlamingo Canada</td>\n",
       "      <td>http://images.amazon.com/images/P/0002005018.0...</td>\n",
       "      <td>http://images.amazon.com/images/P/0002005018.0...</td>\n",
       "      <td>http://images.amazon.com/images/P/0002005018.0...</td>\n",
       "    </tr>\n",
       "    <tr>\n",
       "      <th>2</th>\n",
       "      <td>0060973129</td>\n",
       "      <td>Decision in Normandy</td>\n",
       "      <td>Carlo D'Este</td>\n",
       "      <td>1991</td>\n",
       "      <td>HarperPerennial</td>\n",
       "      <td>http://images.amazon.com/images/P/0060973129.0...</td>\n",
       "      <td>http://images.amazon.com/images/P/0060973129.0...</td>\n",
       "      <td>http://images.amazon.com/images/P/0060973129.0...</td>\n",
       "    </tr>\n",
       "    <tr>\n",
       "      <th>3</th>\n",
       "      <td>0374157065</td>\n",
       "      <td>Flu: The Story of the Great Influenza Pandemic...</td>\n",
       "      <td>Gina Bari Kolata</td>\n",
       "      <td>1999</td>\n",
       "      <td>Farrar Straus Giroux</td>\n",
       "      <td>http://images.amazon.com/images/P/0374157065.0...</td>\n",
       "      <td>http://images.amazon.com/images/P/0374157065.0...</td>\n",
       "      <td>http://images.amazon.com/images/P/0374157065.0...</td>\n",
       "    </tr>\n",
       "    <tr>\n",
       "      <th>4</th>\n",
       "      <td>0393045218</td>\n",
       "      <td>The Mummies of Urumchi</td>\n",
       "      <td>E. J. W. Barber</td>\n",
       "      <td>1999</td>\n",
       "      <td>W. W. Norton &amp;amp; Company</td>\n",
       "      <td>http://images.amazon.com/images/P/0393045218.0...</td>\n",
       "      <td>http://images.amazon.com/images/P/0393045218.0...</td>\n",
       "      <td>http://images.amazon.com/images/P/0393045218.0...</td>\n",
       "    </tr>\n",
       "  </tbody>\n",
       "</table>\n",
       "</div>"
      ],
      "text/plain": [
       "         ISBN                                         Book-Title  \\\n",
       "0  0195153448                                고전 신화              \n",
       "1  0002005018                                      클라라 클란     \n",
       "2  0060973129                              노르망디의 결심         \n",
       "3  0374157065  감기: 대 인플루엔자 팬대믹                          \n",
       "4  0393045218                             우룸치의 미라            \n",
       "\n",
       "            Book-Author Year-Of-Publication                   Publisher  \\\n",
       "0    Mark P. O. Morford                2002     Oxford University Press   \n",
       "1  Richard Bruce Wright                2001       HarperFlamingo Canada   \n",
       "2          Carlo D'Este                1991             HarperPerennial   \n",
       "3      Gina Bari Kolata                1999        Farrar Straus Giroux   \n",
       "4       E. J. W. Barber                1999  W. W. Norton &amp; Company   \n",
       "\n",
       "                                         Image-URL-S  \\\n",
       "0  http://images.amazon.com/images/P/0195153448.0...   \n",
       "1  http://images.amazon.com/images/P/0002005018.0...   \n",
       "2  http://images.amazon.com/images/P/0060973129.0...   \n",
       "3  http://images.amazon.com/images/P/0374157065.0...   \n",
       "4  http://images.amazon.com/images/P/0393045218.0...   \n",
       "\n",
       "                                         Image-URL-M  \\\n",
       "0  http://images.amazon.com/images/P/0195153448.0...   \n",
       "1  http://images.amazon.com/images/P/0002005018.0...   \n",
       "2  http://images.amazon.com/images/P/0060973129.0...   \n",
       "3  http://images.amazon.com/images/P/0374157065.0...   \n",
       "4  http://images.amazon.com/images/P/0393045218.0...   \n",
       "\n",
       "                                         Image-URL-L  \n",
       "0  http://images.amazon.com/images/P/0195153448.0...  \n",
       "1  http://images.amazon.com/images/P/0002005018.0...  \n",
       "2  http://images.amazon.com/images/P/0060973129.0...  \n",
       "3  http://images.amazon.com/images/P/0374157065.0...  \n",
       "4  http://images.amazon.com/images/P/0393045218.0...  "
      ]
     },
     "execution_count": 4,
     "metadata": {},
     "output_type": "execute_result"
    }
   ],
   "source": [
    "books.head()"
   ]
  },
  {
   "cell_type": "code",
   "execution_count": 1,
   "id": "fed26ea6",
   "metadata": {
    "execution": {
     "iopub.execute_input": "2023-01-17T16:32:02.680420Z",
     "iopub.status.busy": "2023-01-17T16:32:02.679549Z",
     "iopub.status.idle": "2023-01-17T16:32:02.684494Z",
     "shell.execute_reply": "2023-01-17T16:32:02.683517Z"
    },
    "papermill": {
     "duration": 0.018455,
     "end_time": "2023-01-17T16:32:02.686497",
     "exception": false,
     "start_time": "2023-01-17T16:32:02.668042",
     "status": "completed"
    },
    "tags": []
   },
   "outputs": [
    {
     "ename": "NameError",
     "evalue": "name 'books' is not defined",
     "output_type": "error",
     "traceback": [
      "\u001b[1;31m---------------------------------------------------------------------------\u001b[0m",
      "\u001b[1;31mNameError\u001b[0m                                 Traceback (most recent call last)",
      "\u001b[1;32m~\\AppData\\Local\\Temp\\ipykernel_21404\\3404536043.py\u001b[0m in \u001b[0;36m<module>\u001b[1;34m\u001b[0m\n\u001b[0;32m      1\u001b[0m \u001b[1;31m#Selecting only useful information ( removing image URLs)\u001b[0m\u001b[1;33m\u001b[0m\u001b[1;33m\u001b[0m\u001b[1;33m\u001b[0m\u001b[0m\n\u001b[1;32m----> 2\u001b[1;33m \u001b[0mbooks\u001b[0m \u001b[1;33m=\u001b[0m \u001b[0mbooks\u001b[0m\u001b[1;33m.\u001b[0m\u001b[0miloc\u001b[0m\u001b[1;33m[\u001b[0m\u001b[1;33m:\u001b[0m\u001b[1;33m,\u001b[0m\u001b[1;33m:\u001b[0m\u001b[1;36m3\u001b[0m\u001b[1;33m]\u001b[0m\u001b[1;33m\u001b[0m\u001b[1;33m\u001b[0m\u001b[0m\n\u001b[0m",
      "\u001b[1;31mNameError\u001b[0m: name 'books' is not defined"
     ]
    }
   ],
   "source": [
    "#Selecting only useful information ( removing image URLs)\n",
    "books = books.iloc[:,:3]"
   ]
  },
  {
   "cell_type": "code",
   "execution_count": null,
   "id": "0fdb3f55",
   "metadata": {
    "execution": {
     "iopub.execute_input": "2023-01-17T16:32:02.708322Z",
     "iopub.status.busy": "2023-01-17T16:32:02.707609Z",
     "iopub.status.idle": "2023-01-17T16:32:02.718891Z",
     "shell.execute_reply": "2023-01-17T16:32:02.718174Z"
    },
    "papermill": {
     "duration": 0.024338,
     "end_time": "2023-01-17T16:32:02.720806",
     "exception": false,
     "start_time": "2023-01-17T16:32:02.696468",
     "status": "completed"
    },
    "tags": []
   },
   "outputs": [
    {
     "data": {
      "text/html": [
       "<div>\n",
       "<style scoped>\n",
       "    .dataframe tbody tr th:only-of-type {\n",
       "        vertical-align: middle;\n",
       "    }\n",
       "\n",
       "    .dataframe tbody tr th {\n",
       "        vertical-align: top;\n",
       "    }\n",
       "\n",
       "    .dataframe thead th {\n",
       "        text-align: right;\n",
       "    }\n",
       "</style>\n",
       "<table border=\"1\" class=\"dataframe\">\n",
       "  <thead>\n",
       "    <tr style=\"text-align: right;\">\n",
       "      <th></th>\n",
       "      <th>ISBN</th>\n",
       "      <th>Book-Title</th>\n",
       "      <th>Book-Author</th>\n",
       "      <th>Year-Of-Publication</th>\n",
       "      <th>Publisher</th>\n",
       "    </tr>\n",
       "  </thead>\n",
       "  <tbody>\n",
       "    <tr>\n",
       "      <th>0</th>\n",
       "      <td>0195153448</td>\n",
       "      <td>Classical Mythology</td>\n",
       "      <td>Mark P. O. Morford</td>\n",
       "      <td>2002</td>\n",
       "      <td>Oxford University Press</td>\n",
       "    </tr>\n",
       "    <tr>\n",
       "      <th>1</th>\n",
       "      <td>0002005018</td>\n",
       "      <td>Clara Callan</td>\n",
       "      <td>Richard Bruce Wright</td>\n",
       "      <td>2001</td>\n",
       "      <td>HarperFlamingo Canada</td>\n",
       "    </tr>\n",
       "    <tr>\n",
       "      <th>2</th>\n",
       "      <td>0060973129</td>\n",
       "      <td>Decision in Normandy</td>\n",
       "      <td>Carlo D'Este</td>\n",
       "      <td>1991</td>\n",
       "      <td>HarperPerennial</td>\n",
       "    </tr>\n",
       "    <tr>\n",
       "      <th>3</th>\n",
       "      <td>0374157065</td>\n",
       "      <td>Flu: The Story of the Great Influenza Pandemic...</td>\n",
       "      <td>Gina Bari Kolata</td>\n",
       "      <td>1999</td>\n",
       "      <td>Farrar Straus Giroux</td>\n",
       "    </tr>\n",
       "    <tr>\n",
       "      <th>4</th>\n",
       "      <td>0393045218</td>\n",
       "      <td>The Mummies of Urumchi</td>\n",
       "      <td>E. J. W. Barber</td>\n",
       "      <td>1999</td>\n",
       "      <td>W. W. Norton &amp;amp; Company</td>\n",
       "    </tr>\n",
       "  </tbody>\n",
       "</table>\n",
       "</div>"
      ],
      "text/plain": [
       "         ISBN                                         Book-Title  \\\n",
       "0  0195153448                                Classical Mythology   \n",
       "1  0002005018                                       Clara Callan   \n",
       "2  0060973129                               Decision in Normandy   \n",
       "3  0374157065  Flu: The Story of the Great Influenza Pandemic...   \n",
       "4  0393045218                             The Mummies of Urumchi   \n",
       "\n",
       "            Book-Author Year-Of-Publication                   Publisher  \n",
       "0    Mark P. O. Morford                2002     Oxford University Press  \n",
       "1  Richard Bruce Wright                2001       HarperFlamingo Canada  \n",
       "2          Carlo D'Este                1991             HarperPerennial  \n",
       "3      Gina Bari Kolata                1999        Farrar Straus Giroux  \n",
       "4       E. J. W. Barber                1999  W. W. Norton &amp; Company  "
      ]
     },
     "execution_count": 6,
     "metadata": {},
     "output_type": "execute_result"
    }
   ],
   "source": [
    "books.head()"
   ]
  },
  {
   "cell_type": "code",
   "execution_count": 7,
   "id": "2f962eb1",
   "metadata": {
    "execution": {
     "iopub.execute_input": "2023-01-17T16:32:02.743151Z",
     "iopub.status.busy": "2023-01-17T16:32:02.742759Z",
     "iopub.status.idle": "2023-01-17T16:32:02.753663Z",
     "shell.execute_reply": "2023-01-17T16:32:02.752755Z"
    },
    "papermill": {
     "duration": 0.024672,
     "end_time": "2023-01-17T16:32:02.755709",
     "exception": false,
     "start_time": "2023-01-17T16:32:02.731037",
     "status": "completed"
    },
    "tags": []
   },
   "outputs": [
    {
     "data": {
      "text/html": [
       "<div>\n",
       "<style scoped>\n",
       "    .dataframe tbody tr th:only-of-type {\n",
       "        vertical-align: middle;\n",
       "    }\n",
       "\n",
       "    .dataframe tbody tr th {\n",
       "        vertical-align: top;\n",
       "    }\n",
       "\n",
       "    .dataframe thead th {\n",
       "        text-align: right;\n",
       "    }\n",
       "</style>\n",
       "<table border=\"1\" class=\"dataframe\">\n",
       "  <thead>\n",
       "    <tr style=\"text-align: right;\">\n",
       "      <th></th>\n",
       "      <th>User-ID</th>\n",
       "      <th>Location</th>\n",
       "      <th>Age</th>\n",
       "    </tr>\n",
       "  </thead>\n",
       "  <tbody>\n",
       "    <tr>\n",
       "      <th>0</th>\n",
       "      <td>1</td>\n",
       "      <td>nyc, new york, usa</td>\n",
       "      <td>NaN</td>\n",
       "    </tr>\n",
       "    <tr>\n",
       "      <th>1</th>\n",
       "      <td>2</td>\n",
       "      <td>stockton, california, usa</td>\n",
       "      <td>18.0</td>\n",
       "    </tr>\n",
       "    <tr>\n",
       "      <th>2</th>\n",
       "      <td>3</td>\n",
       "      <td>moscow, yukon territory, russia</td>\n",
       "      <td>NaN</td>\n",
       "    </tr>\n",
       "    <tr>\n",
       "      <th>3</th>\n",
       "      <td>4</td>\n",
       "      <td>porto, v.n.gaia, portugal</td>\n",
       "      <td>17.0</td>\n",
       "    </tr>\n",
       "    <tr>\n",
       "      <th>4</th>\n",
       "      <td>5</td>\n",
       "      <td>farnborough, hants, united kingdom</td>\n",
       "      <td>NaN</td>\n",
       "    </tr>\n",
       "  </tbody>\n",
       "</table>\n",
       "</div>"
      ],
      "text/plain": [
       "   User-ID                            Location   Age\n",
       "0        1                  nyc, new york, usa   NaN\n",
       "1        2           stockton, california, usa  18.0\n",
       "2        3     moscow, yukon territory, russia   NaN\n",
       "3        4           porto, v.n.gaia, portugal  17.0\n",
       "4        5  farnborough, hants, united kingdom   NaN"
      ]
     },
     "execution_count": 7,
     "metadata": {},
     "output_type": "execute_result"
    }
   ],
   "source": [
    "users.head()"
   ]
  },
  {
   "cell_type": "code",
   "execution_count": 8,
   "id": "bcc68a36",
   "metadata": {
    "execution": {
     "iopub.execute_input": "2023-01-17T16:32:02.778759Z",
     "iopub.status.busy": "2023-01-17T16:32:02.778083Z",
     "iopub.status.idle": "2023-01-17T16:32:02.787324Z",
     "shell.execute_reply": "2023-01-17T16:32:02.786381Z"
    },
    "papermill": {
     "duration": 0.023312,
     "end_time": "2023-01-17T16:32:02.789601",
     "exception": false,
     "start_time": "2023-01-17T16:32:02.766289",
     "status": "completed"
    },
    "tags": []
   },
   "outputs": [
    {
     "data": {
      "text/html": [
       "<div>\n",
       "<style scoped>\n",
       "    .dataframe tbody tr th:only-of-type {\n",
       "        vertical-align: middle;\n",
       "    }\n",
       "\n",
       "    .dataframe tbody tr th {\n",
       "        vertical-align: top;\n",
       "    }\n",
       "\n",
       "    .dataframe thead th {\n",
       "        text-align: right;\n",
       "    }\n",
       "</style>\n",
       "<table border=\"1\" class=\"dataframe\">\n",
       "  <thead>\n",
       "    <tr style=\"text-align: right;\">\n",
       "      <th></th>\n",
       "      <th>User-ID</th>\n",
       "      <th>ISBN</th>\n",
       "      <th>Book-Rating</th>\n",
       "    </tr>\n",
       "  </thead>\n",
       "  <tbody>\n",
       "    <tr>\n",
       "      <th>0</th>\n",
       "      <td>276725</td>\n",
       "      <td>034545104X</td>\n",
       "      <td>0</td>\n",
       "    </tr>\n",
       "    <tr>\n",
       "      <th>1</th>\n",
       "      <td>276726</td>\n",
       "      <td>0155061224</td>\n",
       "      <td>5</td>\n",
       "    </tr>\n",
       "    <tr>\n",
       "      <th>2</th>\n",
       "      <td>276727</td>\n",
       "      <td>0446520802</td>\n",
       "      <td>0</td>\n",
       "    </tr>\n",
       "    <tr>\n",
       "      <th>3</th>\n",
       "      <td>276729</td>\n",
       "      <td>052165615X</td>\n",
       "      <td>3</td>\n",
       "    </tr>\n",
       "    <tr>\n",
       "      <th>4</th>\n",
       "      <td>276729</td>\n",
       "      <td>0521795028</td>\n",
       "      <td>6</td>\n",
       "    </tr>\n",
       "  </tbody>\n",
       "</table>\n",
       "</div>"
      ],
      "text/plain": [
       "   User-ID        ISBN  Book-Rating\n",
       "0   276725  034545104X            0\n",
       "1   276726  0155061224            5\n",
       "2   276727  0446520802            0\n",
       "3   276729  052165615X            3\n",
       "4   276729  0521795028            6"
      ]
     },
     "execution_count": 8,
     "metadata": {},
     "output_type": "execute_result"
    }
   ],
   "source": [
    "ratings.head()"
   ]
  },
  {
   "cell_type": "code",
   "execution_count": 9,
   "id": "8847894c",
   "metadata": {
    "execution": {
     "iopub.execute_input": "2023-01-17T16:32:02.813138Z",
     "iopub.status.busy": "2023-01-17T16:32:02.812716Z",
     "iopub.status.idle": "2023-01-17T16:32:02.992085Z",
     "shell.execute_reply": "2023-01-17T16:32:02.991027Z"
    },
    "papermill": {
     "duration": 0.194487,
     "end_time": "2023-01-17T16:32:02.995053",
     "exception": false,
     "start_time": "2023-01-17T16:32:02.800566",
     "status": "completed"
    },
    "tags": []
   },
   "outputs": [],
   "source": [
    "#Groupby to see which user has rated how many books\n",
    "user_rating_count = ratings.groupby('User-ID').count().sort_values(by = 'ISBN', ascending = False)"
   ]
  },
  {
   "cell_type": "code",
   "execution_count": 10,
   "id": "b22094cd",
   "metadata": {
    "execution": {
     "iopub.execute_input": "2023-01-17T16:32:03.018595Z",
     "iopub.status.busy": "2023-01-17T16:32:03.017944Z",
     "iopub.status.idle": "2023-01-17T16:32:03.024714Z",
     "shell.execute_reply": "2023-01-17T16:32:03.023697Z"
    },
    "papermill": {
     "duration": 0.020935,
     "end_time": "2023-01-17T16:32:03.026935",
     "exception": false,
     "start_time": "2023-01-17T16:32:03.006000",
     "status": "completed"
    },
    "tags": []
   },
   "outputs": [
    {
     "data": {
      "text/plain": [
       "(105283, 2)"
      ]
     },
     "execution_count": 10,
     "metadata": {},
     "output_type": "execute_result"
    }
   ],
   "source": [
    "user_rating_count.shape"
   ]
  },
  {
   "cell_type": "code",
   "execution_count": 11,
   "id": "6faa4075",
   "metadata": {
    "execution": {
     "iopub.execute_input": "2023-01-17T16:32:03.049911Z",
     "iopub.status.busy": "2023-01-17T16:32:03.049524Z",
     "iopub.status.idle": "2023-01-17T16:32:03.056365Z",
     "shell.execute_reply": "2023-01-17T16:32:03.055426Z"
    },
    "papermill": {
     "duration": 0.020918,
     "end_time": "2023-01-17T16:32:03.058547",
     "exception": false,
     "start_time": "2023-01-17T16:32:03.037629",
     "status": "completed"
    },
    "tags": []
   },
   "outputs": [],
   "source": [
    "#keep only those users who have given ratings to more than 100 books)\n",
    "user_rating_count = user_rating_count[user_rating_count['ISBN']>100]"
   ]
  },
  {
   "cell_type": "code",
   "execution_count": 12,
   "id": "cbbb3aff",
   "metadata": {
    "execution": {
     "iopub.execute_input": "2023-01-17T16:32:03.081816Z",
     "iopub.status.busy": "2023-01-17T16:32:03.081451Z",
     "iopub.status.idle": "2023-01-17T16:32:03.087803Z",
     "shell.execute_reply": "2023-01-17T16:32:03.086764Z"
    },
    "papermill": {
     "duration": 0.020597,
     "end_time": "2023-01-17T16:32:03.089971",
     "exception": false,
     "start_time": "2023-01-17T16:32:03.069374",
     "status": "completed"
    },
    "tags": []
   },
   "outputs": [
    {
     "data": {
      "text/plain": [
       "(1825, 2)"
      ]
     },
     "execution_count": 12,
     "metadata": {},
     "output_type": "execute_result"
    }
   ],
   "source": [
    "user_rating_count.shape"
   ]
  },
  {
   "cell_type": "code",
   "execution_count": 13,
   "id": "0d202b9e",
   "metadata": {
    "execution": {
     "iopub.execute_input": "2023-01-17T16:32:03.114112Z",
     "iopub.status.busy": "2023-01-17T16:32:03.113519Z",
     "iopub.status.idle": "2023-01-17T16:32:03.903498Z",
     "shell.execute_reply": "2023-01-17T16:32:03.902321Z"
    },
    "papermill": {
     "duration": 0.805212,
     "end_time": "2023-01-17T16:32:03.906329",
     "exception": false,
     "start_time": "2023-01-17T16:32:03.101117",
     "status": "completed"
    },
    "tags": []
   },
   "outputs": [],
   "source": [
    "#Get counts of the ratings for each book\n",
    "book_rating_count = ratings.groupby('ISBN').count().sort_values(by = 'Book-Rating', ascending = False)"
   ]
  },
  {
   "cell_type": "code",
   "execution_count": 14,
   "id": "1c9aa346",
   "metadata": {
    "execution": {
     "iopub.execute_input": "2023-01-17T16:32:03.931641Z",
     "iopub.status.busy": "2023-01-17T16:32:03.931210Z",
     "iopub.status.idle": "2023-01-17T16:32:03.941582Z",
     "shell.execute_reply": "2023-01-17T16:32:03.940514Z"
    },
    "papermill": {
     "duration": 0.025854,
     "end_time": "2023-01-17T16:32:03.943989",
     "exception": false,
     "start_time": "2023-01-17T16:32:03.918135",
     "status": "completed"
    },
    "tags": []
   },
   "outputs": [
    {
     "data": {
      "text/html": [
       "<div>\n",
       "<style scoped>\n",
       "    .dataframe tbody tr th:only-of-type {\n",
       "        vertical-align: middle;\n",
       "    }\n",
       "\n",
       "    .dataframe tbody tr th {\n",
       "        vertical-align: top;\n",
       "    }\n",
       "\n",
       "    .dataframe thead th {\n",
       "        text-align: right;\n",
       "    }\n",
       "</style>\n",
       "<table border=\"1\" class=\"dataframe\">\n",
       "  <thead>\n",
       "    <tr style=\"text-align: right;\">\n",
       "      <th></th>\n",
       "      <th>User-ID</th>\n",
       "      <th>Book-Rating</th>\n",
       "    </tr>\n",
       "    <tr>\n",
       "      <th>ISBN</th>\n",
       "      <th></th>\n",
       "      <th></th>\n",
       "    </tr>\n",
       "  </thead>\n",
       "  <tbody>\n",
       "    <tr>\n",
       "      <th>0971880107</th>\n",
       "      <td>2502</td>\n",
       "      <td>2502</td>\n",
       "    </tr>\n",
       "    <tr>\n",
       "      <th>0316666343</th>\n",
       "      <td>1295</td>\n",
       "      <td>1295</td>\n",
       "    </tr>\n",
       "    <tr>\n",
       "      <th>0385504209</th>\n",
       "      <td>883</td>\n",
       "      <td>883</td>\n",
       "    </tr>\n",
       "    <tr>\n",
       "      <th>0060928336</th>\n",
       "      <td>732</td>\n",
       "      <td>732</td>\n",
       "    </tr>\n",
       "    <tr>\n",
       "      <th>0312195516</th>\n",
       "      <td>723</td>\n",
       "      <td>723</td>\n",
       "    </tr>\n",
       "    <tr>\n",
       "      <th>044023722X</th>\n",
       "      <td>647</td>\n",
       "      <td>647</td>\n",
       "    </tr>\n",
       "    <tr>\n",
       "      <th>0679781587</th>\n",
       "      <td>639</td>\n",
       "      <td>639</td>\n",
       "    </tr>\n",
       "    <tr>\n",
       "      <th>0142001740</th>\n",
       "      <td>615</td>\n",
       "      <td>615</td>\n",
       "    </tr>\n",
       "    <tr>\n",
       "      <th>067976402X</th>\n",
       "      <td>614</td>\n",
       "      <td>614</td>\n",
       "    </tr>\n",
       "    <tr>\n",
       "      <th>0671027360</th>\n",
       "      <td>586</td>\n",
       "      <td>586</td>\n",
       "    </tr>\n",
       "  </tbody>\n",
       "</table>\n",
       "</div>"
      ],
      "text/plain": [
       "            User-ID  Book-Rating\n",
       "ISBN                            \n",
       "0971880107     2502         2502\n",
       "0316666343     1295         1295\n",
       "0385504209      883          883\n",
       "0060928336      732          732\n",
       "0312195516      723          723\n",
       "044023722X      647          647\n",
       "0679781587      639          639\n",
       "0142001740      615          615\n",
       "067976402X      614          614\n",
       "0671027360      586          586"
      ]
     },
     "execution_count": 14,
     "metadata": {},
     "output_type": "execute_result"
    }
   ],
   "source": [
    "book_rating_count.head(10)"
   ]
  },
  {
   "cell_type": "code",
   "execution_count": 15,
   "id": "ce0f0edb",
   "metadata": {
    "execution": {
     "iopub.execute_input": "2023-01-17T16:32:03.968694Z",
     "iopub.status.busy": "2023-01-17T16:32:03.967906Z",
     "iopub.status.idle": "2023-01-17T16:32:03.974289Z",
     "shell.execute_reply": "2023-01-17T16:32:03.973313Z"
    },
    "papermill": {
     "duration": 0.021318,
     "end_time": "2023-01-17T16:32:03.976463",
     "exception": false,
     "start_time": "2023-01-17T16:32:03.955145",
     "status": "completed"
    },
    "tags": []
   },
   "outputs": [],
   "source": [
    "#only keep books with more than 50 ratings\n",
    "book_rating_count = book_rating_count[book_rating_count['User-ID'] > 50]"
   ]
  },
  {
   "cell_type": "code",
   "execution_count": 16,
   "id": "ec7cc121",
   "metadata": {
    "execution": {
     "iopub.execute_input": "2023-01-17T16:32:04.001208Z",
     "iopub.status.busy": "2023-01-17T16:32:04.000431Z",
     "iopub.status.idle": "2023-01-17T16:32:04.837170Z",
     "shell.execute_reply": "2023-01-17T16:32:04.836094Z"
    },
    "papermill": {
     "duration": 0.852165,
     "end_time": "2023-01-17T16:32:04.839861",
     "exception": false,
     "start_time": "2023-01-17T16:32:03.987696",
     "status": "completed"
    },
    "tags": []
   },
   "outputs": [],
   "source": [
    "ratings = ratings.merge(books, on = 'ISBN')"
   ]
  },
  {
   "cell_type": "code",
   "execution_count": 17,
   "id": "9670aa01",
   "metadata": {
    "execution": {
     "iopub.execute_input": "2023-01-17T16:32:04.864022Z",
     "iopub.status.busy": "2023-01-17T16:32:04.863591Z",
     "iopub.status.idle": "2023-01-17T16:32:04.880774Z",
     "shell.execute_reply": "2023-01-17T16:32:04.879604Z"
    },
    "papermill": {
     "duration": 0.03249,
     "end_time": "2023-01-17T16:32:04.883677",
     "exception": false,
     "start_time": "2023-01-17T16:32:04.851187",
     "status": "completed"
    },
    "tags": []
   },
   "outputs": [
    {
     "data": {
      "text/html": [
       "<div>\n",
       "<style scoped>\n",
       "    .dataframe tbody tr th:only-of-type {\n",
       "        vertical-align: middle;\n",
       "    }\n",
       "\n",
       "    .dataframe tbody tr th {\n",
       "        vertical-align: top;\n",
       "    }\n",
       "\n",
       "    .dataframe thead th {\n",
       "        text-align: right;\n",
       "    }\n",
       "</style>\n",
       "<table border=\"1\" class=\"dataframe\">\n",
       "  <thead>\n",
       "    <tr style=\"text-align: right;\">\n",
       "      <th></th>\n",
       "      <th>User-ID</th>\n",
       "      <th>ISBN</th>\n",
       "      <th>Book-Rating</th>\n",
       "      <th>Book-Title</th>\n",
       "      <th>Book-Author</th>\n",
       "      <th>Year-Of-Publication</th>\n",
       "      <th>Publisher</th>\n",
       "    </tr>\n",
       "  </thead>\n",
       "  <tbody>\n",
       "    <tr>\n",
       "      <th>0</th>\n",
       "      <td>276725</td>\n",
       "      <td>034545104X</td>\n",
       "      <td>0</td>\n",
       "      <td>Flesh Tones: A Novel</td>\n",
       "      <td>M. J. Rose</td>\n",
       "      <td>2002</td>\n",
       "      <td>Ballantine Books</td>\n",
       "    </tr>\n",
       "    <tr>\n",
       "      <th>1</th>\n",
       "      <td>2313</td>\n",
       "      <td>034545104X</td>\n",
       "      <td>5</td>\n",
       "      <td>Flesh Tones: A Novel</td>\n",
       "      <td>M. J. Rose</td>\n",
       "      <td>2002</td>\n",
       "      <td>Ballantine Books</td>\n",
       "    </tr>\n",
       "    <tr>\n",
       "      <th>2</th>\n",
       "      <td>6543</td>\n",
       "      <td>034545104X</td>\n",
       "      <td>0</td>\n",
       "      <td>Flesh Tones: A Novel</td>\n",
       "      <td>M. J. Rose</td>\n",
       "      <td>2002</td>\n",
       "      <td>Ballantine Books</td>\n",
       "    </tr>\n",
       "    <tr>\n",
       "      <th>3</th>\n",
       "      <td>8680</td>\n",
       "      <td>034545104X</td>\n",
       "      <td>5</td>\n",
       "      <td>Flesh Tones: A Novel</td>\n",
       "      <td>M. J. Rose</td>\n",
       "      <td>2002</td>\n",
       "      <td>Ballantine Books</td>\n",
       "    </tr>\n",
       "    <tr>\n",
       "      <th>4</th>\n",
       "      <td>10314</td>\n",
       "      <td>034545104X</td>\n",
       "      <td>9</td>\n",
       "      <td>Flesh Tones: A Novel</td>\n",
       "      <td>M. J. Rose</td>\n",
       "      <td>2002</td>\n",
       "      <td>Ballantine Books</td>\n",
       "    </tr>\n",
       "  </tbody>\n",
       "</table>\n",
       "</div>"
      ],
      "text/plain": [
       "   User-ID        ISBN  Book-Rating            Book-Title Book-Author  \\\n",
       "0   276725  034545104X            0  Flesh Tones: A Novel  M. J. Rose   \n",
       "1     2313  034545104X            5  Flesh Tones: A Novel  M. J. Rose   \n",
       "2     6543  034545104X            0  Flesh Tones: A Novel  M. J. Rose   \n",
       "3     8680  034545104X            5  Flesh Tones: A Novel  M. J. Rose   \n",
       "4    10314  034545104X            9  Flesh Tones: A Novel  M. J. Rose   \n",
       "\n",
       "  Year-Of-Publication         Publisher  \n",
       "0                2002  Ballantine Books  \n",
       "1                2002  Ballantine Books  \n",
       "2                2002  Ballantine Books  \n",
       "3                2002  Ballantine Books  \n",
       "4                2002  Ballantine Books  "
      ]
     },
     "execution_count": 17,
     "metadata": {},
     "output_type": "execute_result"
    }
   ],
   "source": [
    "ratings.head()"
   ]
  },
  {
   "cell_type": "code",
   "execution_count": 18,
   "id": "ddeabe4c",
   "metadata": {
    "execution": {
     "iopub.execute_input": "2023-01-17T16:32:04.908227Z",
     "iopub.status.busy": "2023-01-17T16:32:04.907817Z",
     "iopub.status.idle": "2023-01-17T16:32:04.915033Z",
     "shell.execute_reply": "2023-01-17T16:32:04.914054Z"
    },
    "papermill": {
     "duration": 0.023122,
     "end_time": "2023-01-17T16:32:04.918196",
     "exception": false,
     "start_time": "2023-01-17T16:32:04.895074",
     "status": "completed"
    },
    "tags": []
   },
   "outputs": [
    {
     "data": {
      "text/plain": [
       "(1031136, 7)"
      ]
     },
     "execution_count": 18,
     "metadata": {},
     "output_type": "execute_result"
    }
   ],
   "source": [
    "ratings.shape"
   ]
  },
  {
   "cell_type": "code",
   "execution_count": 19,
   "id": "f28c8019",
   "metadata": {
    "execution": {
     "iopub.execute_input": "2023-01-17T16:32:04.944575Z",
     "iopub.status.busy": "2023-01-17T16:32:04.944166Z",
     "iopub.status.idle": "2023-01-17T16:32:05.305263Z",
     "shell.execute_reply": "2023-01-17T16:32:05.304015Z"
    },
    "papermill": {
     "duration": 0.376798,
     "end_time": "2023-01-17T16:32:05.308122",
     "exception": false,
     "start_time": "2023-01-17T16:32:04.931324",
     "status": "completed"
    },
    "tags": []
   },
   "outputs": [],
   "source": [
    "ratings = ratings[ratings['User-ID'].isin(user_rating_count.index)]"
   ]
  },
  {
   "cell_type": "code",
   "execution_count": 20,
   "id": "155c5c20",
   "metadata": {
    "execution": {
     "iopub.execute_input": "2023-01-17T16:32:05.332653Z",
     "iopub.status.busy": "2023-01-17T16:32:05.332268Z",
     "iopub.status.idle": "2023-01-17T16:32:05.338865Z",
     "shell.execute_reply": "2023-01-17T16:32:05.337805Z"
    },
    "papermill": {
     "duration": 0.021629,
     "end_time": "2023-01-17T16:32:05.341142",
     "exception": false,
     "start_time": "2023-01-17T16:32:05.319513",
     "status": "completed"
    },
    "tags": []
   },
   "outputs": [
    {
     "data": {
      "text/plain": [
       "(604854, 7)"
      ]
     },
     "execution_count": 20,
     "metadata": {},
     "output_type": "execute_result"
    }
   ],
   "source": [
    "ratings.shape"
   ]
  },
  {
   "cell_type": "code",
   "execution_count": 21,
   "id": "a98319c2",
   "metadata": {
    "execution": {
     "iopub.execute_input": "2023-01-17T16:32:05.365988Z",
     "iopub.status.busy": "2023-01-17T16:32:05.365230Z",
     "iopub.status.idle": "2023-01-17T16:32:05.452556Z",
     "shell.execute_reply": "2023-01-17T16:32:05.451479Z"
    },
    "papermill": {
     "duration": 0.102657,
     "end_time": "2023-01-17T16:32:05.455138",
     "exception": false,
     "start_time": "2023-01-17T16:32:05.352481",
     "status": "completed"
    },
    "tags": []
   },
   "outputs": [],
   "source": [
    "ratings = ratings[ratings['ISBN'].isin(book_rating_count.index)]"
   ]
  },
  {
   "cell_type": "code",
   "execution_count": 22,
   "id": "58651b64",
   "metadata": {
    "execution": {
     "iopub.execute_input": "2023-01-17T16:32:05.480228Z",
     "iopub.status.busy": "2023-01-17T16:32:05.479812Z",
     "iopub.status.idle": "2023-01-17T16:32:05.486529Z",
     "shell.execute_reply": "2023-01-17T16:32:05.485432Z"
    },
    "papermill": {
     "duration": 0.021998,
     "end_time": "2023-01-17T16:32:05.488821",
     "exception": false,
     "start_time": "2023-01-17T16:32:05.466823",
     "status": "completed"
    },
    "tags": []
   },
   "outputs": [
    {
     "data": {
      "text/plain": [
       "(116873, 7)"
      ]
     },
     "execution_count": 22,
     "metadata": {},
     "output_type": "execute_result"
    }
   ],
   "source": [
    "ratings.shape"
   ]
  },
  {
   "cell_type": "code",
   "execution_count": 23,
   "id": "c89887ba",
   "metadata": {
    "execution": {
     "iopub.execute_input": "2023-01-17T16:32:05.514886Z",
     "iopub.status.busy": "2023-01-17T16:32:05.513789Z",
     "iopub.status.idle": "2023-01-17T16:32:05.528447Z",
     "shell.execute_reply": "2023-01-17T16:32:05.527501Z"
    },
    "papermill": {
     "duration": 0.030483,
     "end_time": "2023-01-17T16:32:05.531411",
     "exception": false,
     "start_time": "2023-01-17T16:32:05.500928",
     "status": "completed"
    },
    "tags": []
   },
   "outputs": [
    {
     "data": {
      "text/html": [
       "<div>\n",
       "<style scoped>\n",
       "    .dataframe tbody tr th:only-of-type {\n",
       "        vertical-align: middle;\n",
       "    }\n",
       "\n",
       "    .dataframe tbody tr th {\n",
       "        vertical-align: top;\n",
       "    }\n",
       "\n",
       "    .dataframe thead th {\n",
       "        text-align: right;\n",
       "    }\n",
       "</style>\n",
       "<table border=\"1\" class=\"dataframe\">\n",
       "  <thead>\n",
       "    <tr style=\"text-align: right;\">\n",
       "      <th></th>\n",
       "      <th>User-ID</th>\n",
       "      <th>ISBN</th>\n",
       "      <th>Book-Rating</th>\n",
       "      <th>Book-Title</th>\n",
       "      <th>Book-Author</th>\n",
       "      <th>Year-Of-Publication</th>\n",
       "      <th>Publisher</th>\n",
       "    </tr>\n",
       "  </thead>\n",
       "  <tbody>\n",
       "    <tr>\n",
       "      <th>2</th>\n",
       "      <td>6543</td>\n",
       "      <td>034545104X</td>\n",
       "      <td>0</td>\n",
       "      <td>Flesh Tones: A Novel</td>\n",
       "      <td>M. J. Rose</td>\n",
       "      <td>2002</td>\n",
       "      <td>Ballantine Books</td>\n",
       "    </tr>\n",
       "    <tr>\n",
       "      <th>4</th>\n",
       "      <td>10314</td>\n",
       "      <td>034545104X</td>\n",
       "      <td>9</td>\n",
       "      <td>Flesh Tones: A Novel</td>\n",
       "      <td>M. J. Rose</td>\n",
       "      <td>2002</td>\n",
       "      <td>Ballantine Books</td>\n",
       "    </tr>\n",
       "    <tr>\n",
       "      <th>5</th>\n",
       "      <td>23768</td>\n",
       "      <td>034545104X</td>\n",
       "      <td>0</td>\n",
       "      <td>Flesh Tones: A Novel</td>\n",
       "      <td>M. J. Rose</td>\n",
       "      <td>2002</td>\n",
       "      <td>Ballantine Books</td>\n",
       "    </tr>\n",
       "    <tr>\n",
       "      <th>7</th>\n",
       "      <td>28523</td>\n",
       "      <td>034545104X</td>\n",
       "      <td>0</td>\n",
       "      <td>Flesh Tones: A Novel</td>\n",
       "      <td>M. J. Rose</td>\n",
       "      <td>2002</td>\n",
       "      <td>Ballantine Books</td>\n",
       "    </tr>\n",
       "    <tr>\n",
       "      <th>14</th>\n",
       "      <td>77480</td>\n",
       "      <td>034545104X</td>\n",
       "      <td>8</td>\n",
       "      <td>Flesh Tones: A Novel</td>\n",
       "      <td>M. J. Rose</td>\n",
       "      <td>2002</td>\n",
       "      <td>Ballantine Books</td>\n",
       "    </tr>\n",
       "  </tbody>\n",
       "</table>\n",
       "</div>"
      ],
      "text/plain": [
       "    User-ID        ISBN  Book-Rating            Book-Title Book-Author  \\\n",
       "2      6543  034545104X            0  Flesh Tones: A Novel  M. J. Rose   \n",
       "4     10314  034545104X            9  Flesh Tones: A Novel  M. J. Rose   \n",
       "5     23768  034545104X            0  Flesh Tones: A Novel  M. J. Rose   \n",
       "7     28523  034545104X            0  Flesh Tones: A Novel  M. J. Rose   \n",
       "14    77480  034545104X            8  Flesh Tones: A Novel  M. J. Rose   \n",
       "\n",
       "   Year-Of-Publication         Publisher  \n",
       "2                 2002  Ballantine Books  \n",
       "4                 2002  Ballantine Books  \n",
       "5                 2002  Ballantine Books  \n",
       "7                 2002  Ballantine Books  \n",
       "14                2002  Ballantine Books  "
      ]
     },
     "execution_count": 23,
     "metadata": {},
     "output_type": "execute_result"
    }
   ],
   "source": [
    "ratings.head()"
   ]
  },
  {
   "cell_type": "code",
   "execution_count": 24,
   "id": "42083ed4",
   "metadata": {
    "execution": {
     "iopub.execute_input": "2023-01-17T16:32:05.561551Z",
     "iopub.status.busy": "2023-01-17T16:32:05.560391Z",
     "iopub.status.idle": "2023-01-17T16:32:05.727461Z",
     "shell.execute_reply": "2023-01-17T16:32:05.726534Z"
    },
    "papermill": {
     "duration": 0.184299,
     "end_time": "2023-01-17T16:32:05.729968",
     "exception": false,
     "start_time": "2023-01-17T16:32:05.545669",
     "status": "completed"
    },
    "tags": []
   },
   "outputs": [],
   "source": [
    "piv_table = ratings.pivot_table(columns = \"User-ID\", index = \"ISBN\", values = \"Book-Rating\")"
   ]
  },
  {
   "cell_type": "code",
   "execution_count": 25,
   "id": "42bb0517",
   "metadata": {
    "execution": {
     "iopub.execute_input": "2023-01-17T16:32:05.754529Z",
     "iopub.status.busy": "2023-01-17T16:32:05.754178Z",
     "iopub.status.idle": "2023-01-17T16:32:05.760361Z",
     "shell.execute_reply": "2023-01-17T16:32:05.759323Z"
    },
    "papermill": {
     "duration": 0.020983,
     "end_time": "2023-01-17T16:32:05.762548",
     "exception": false,
     "start_time": "2023-01-17T16:32:05.741565",
     "status": "completed"
    },
    "tags": []
   },
   "outputs": [
    {
     "data": {
      "text/plain": [
       "(2101, 1793)"
      ]
     },
     "execution_count": 25,
     "metadata": {},
     "output_type": "execute_result"
    }
   ],
   "source": [
    "piv_table.shape"
   ]
  },
  {
   "cell_type": "markdown",
   "id": "412e9ba4",
   "metadata": {
    "papermill": {
     "duration": 0.011636,
     "end_time": "2023-01-17T16:32:05.786009",
     "exception": false,
     "start_time": "2023-01-17T16:32:05.774373",
     "status": "completed"
    },
    "tags": []
   },
   "source": [
    "So we have 2101 books and 1792 users.\n"
   ]
  },
  {
   "cell_type": "code",
   "execution_count": 26,
   "id": "dc56180a",
   "metadata": {
    "execution": {
     "iopub.execute_input": "2023-01-17T16:32:05.811893Z",
     "iopub.status.busy": "2023-01-17T16:32:05.810793Z",
     "iopub.status.idle": "2023-01-17T16:32:05.840965Z",
     "shell.execute_reply": "2023-01-17T16:32:05.839946Z"
    },
    "papermill": {
     "duration": 0.045285,
     "end_time": "2023-01-17T16:32:05.843069",
     "exception": false,
     "start_time": "2023-01-17T16:32:05.797784",
     "status": "completed"
    },
    "tags": []
   },
   "outputs": [
    {
     "data": {
      "text/html": [
       "<div>\n",
       "<style scoped>\n",
       "    .dataframe tbody tr th:only-of-type {\n",
       "        vertical-align: middle;\n",
       "    }\n",
       "\n",
       "    .dataframe tbody tr th {\n",
       "        vertical-align: top;\n",
       "    }\n",
       "\n",
       "    .dataframe thead th {\n",
       "        text-align: right;\n",
       "    }\n",
       "</style>\n",
       "<table border=\"1\" class=\"dataframe\">\n",
       "  <thead>\n",
       "    <tr style=\"text-align: right;\">\n",
       "      <th>User-ID</th>\n",
       "      <th>254</th>\n",
       "      <th>507</th>\n",
       "      <th>882</th>\n",
       "      <th>1424</th>\n",
       "      <th>1435</th>\n",
       "      <th>1733</th>\n",
       "      <th>1903</th>\n",
       "      <th>2033</th>\n",
       "      <th>2110</th>\n",
       "      <th>2276</th>\n",
       "      <th>...</th>\n",
       "      <th>16161</th>\n",
       "      <th>16413</th>\n",
       "      <th>16488</th>\n",
       "      <th>16601</th>\n",
       "      <th>16634</th>\n",
       "      <th>16721</th>\n",
       "      <th>16795</th>\n",
       "      <th>16916</th>\n",
       "      <th>16943</th>\n",
       "      <th>16966</th>\n",
       "    </tr>\n",
       "    <tr>\n",
       "      <th>ISBN</th>\n",
       "      <th></th>\n",
       "      <th></th>\n",
       "      <th></th>\n",
       "      <th></th>\n",
       "      <th></th>\n",
       "      <th></th>\n",
       "      <th></th>\n",
       "      <th></th>\n",
       "      <th></th>\n",
       "      <th></th>\n",
       "      <th></th>\n",
       "      <th></th>\n",
       "      <th></th>\n",
       "      <th></th>\n",
       "      <th></th>\n",
       "      <th></th>\n",
       "      <th></th>\n",
       "      <th></th>\n",
       "      <th></th>\n",
       "      <th></th>\n",
       "      <th></th>\n",
       "    </tr>\n",
       "  </thead>\n",
       "  <tbody>\n",
       "    <tr>\n",
       "      <th>000649840X</th>\n",
       "      <td>NaN</td>\n",
       "      <td>NaN</td>\n",
       "      <td>NaN</td>\n",
       "      <td>NaN</td>\n",
       "      <td>NaN</td>\n",
       "      <td>NaN</td>\n",
       "      <td>NaN</td>\n",
       "      <td>NaN</td>\n",
       "      <td>NaN</td>\n",
       "      <td>NaN</td>\n",
       "      <td>...</td>\n",
       "      <td>NaN</td>\n",
       "      <td>NaN</td>\n",
       "      <td>NaN</td>\n",
       "      <td>NaN</td>\n",
       "      <td>NaN</td>\n",
       "      <td>NaN</td>\n",
       "      <td>NaN</td>\n",
       "      <td>NaN</td>\n",
       "      <td>NaN</td>\n",
       "      <td>NaN</td>\n",
       "    </tr>\n",
       "    <tr>\n",
       "      <th>002026478X</th>\n",
       "      <td>NaN</td>\n",
       "      <td>NaN</td>\n",
       "      <td>NaN</td>\n",
       "      <td>NaN</td>\n",
       "      <td>NaN</td>\n",
       "      <td>NaN</td>\n",
       "      <td>NaN</td>\n",
       "      <td>NaN</td>\n",
       "      <td>NaN</td>\n",
       "      <td>NaN</td>\n",
       "      <td>...</td>\n",
       "      <td>NaN</td>\n",
       "      <td>NaN</td>\n",
       "      <td>0.0</td>\n",
       "      <td>NaN</td>\n",
       "      <td>NaN</td>\n",
       "      <td>NaN</td>\n",
       "      <td>NaN</td>\n",
       "      <td>NaN</td>\n",
       "      <td>NaN</td>\n",
       "      <td>NaN</td>\n",
       "    </tr>\n",
       "    <tr>\n",
       "      <th>0020442203</th>\n",
       "      <td>NaN</td>\n",
       "      <td>NaN</td>\n",
       "      <td>NaN</td>\n",
       "      <td>NaN</td>\n",
       "      <td>NaN</td>\n",
       "      <td>NaN</td>\n",
       "      <td>NaN</td>\n",
       "      <td>NaN</td>\n",
       "      <td>NaN</td>\n",
       "      <td>NaN</td>\n",
       "      <td>...</td>\n",
       "      <td>NaN</td>\n",
       "      <td>NaN</td>\n",
       "      <td>NaN</td>\n",
       "      <td>NaN</td>\n",
       "      <td>9.0</td>\n",
       "      <td>NaN</td>\n",
       "      <td>NaN</td>\n",
       "      <td>NaN</td>\n",
       "      <td>NaN</td>\n",
       "      <td>NaN</td>\n",
       "    </tr>\n",
       "    <tr>\n",
       "      <th>002542730X</th>\n",
       "      <td>NaN</td>\n",
       "      <td>NaN</td>\n",
       "      <td>NaN</td>\n",
       "      <td>NaN</td>\n",
       "      <td>NaN</td>\n",
       "      <td>NaN</td>\n",
       "      <td>NaN</td>\n",
       "      <td>NaN</td>\n",
       "      <td>NaN</td>\n",
       "      <td>NaN</td>\n",
       "      <td>...</td>\n",
       "      <td>NaN</td>\n",
       "      <td>NaN</td>\n",
       "      <td>NaN</td>\n",
       "      <td>NaN</td>\n",
       "      <td>NaN</td>\n",
       "      <td>NaN</td>\n",
       "      <td>0.0</td>\n",
       "      <td>NaN</td>\n",
       "      <td>NaN</td>\n",
       "      <td>NaN</td>\n",
       "    </tr>\n",
       "    <tr>\n",
       "      <th>0028604199</th>\n",
       "      <td>NaN</td>\n",
       "      <td>NaN</td>\n",
       "      <td>NaN</td>\n",
       "      <td>NaN</td>\n",
       "      <td>NaN</td>\n",
       "      <td>NaN</td>\n",
       "      <td>NaN</td>\n",
       "      <td>NaN</td>\n",
       "      <td>NaN</td>\n",
       "      <td>NaN</td>\n",
       "      <td>...</td>\n",
       "      <td>NaN</td>\n",
       "      <td>NaN</td>\n",
       "      <td>NaN</td>\n",
       "      <td>NaN</td>\n",
       "      <td>NaN</td>\n",
       "      <td>NaN</td>\n",
       "      <td>NaN</td>\n",
       "      <td>NaN</td>\n",
       "      <td>NaN</td>\n",
       "      <td>NaN</td>\n",
       "    </tr>\n",
       "    <tr>\n",
       "      <th>...</th>\n",
       "      <td>...</td>\n",
       "      <td>...</td>\n",
       "      <td>...</td>\n",
       "      <td>...</td>\n",
       "      <td>...</td>\n",
       "      <td>...</td>\n",
       "      <td>...</td>\n",
       "      <td>...</td>\n",
       "      <td>...</td>\n",
       "      <td>...</td>\n",
       "      <td>...</td>\n",
       "      <td>...</td>\n",
       "      <td>...</td>\n",
       "      <td>...</td>\n",
       "      <td>...</td>\n",
       "      <td>...</td>\n",
       "      <td>...</td>\n",
       "      <td>...</td>\n",
       "      <td>...</td>\n",
       "      <td>...</td>\n",
       "      <td>...</td>\n",
       "    </tr>\n",
       "    <tr>\n",
       "      <th>0061097659</th>\n",
       "      <td>NaN</td>\n",
       "      <td>NaN</td>\n",
       "      <td>NaN</td>\n",
       "      <td>NaN</td>\n",
       "      <td>NaN</td>\n",
       "      <td>NaN</td>\n",
       "      <td>NaN</td>\n",
       "      <td>NaN</td>\n",
       "      <td>NaN</td>\n",
       "      <td>NaN</td>\n",
       "      <td>...</td>\n",
       "      <td>NaN</td>\n",
       "      <td>NaN</td>\n",
       "      <td>NaN</td>\n",
       "      <td>NaN</td>\n",
       "      <td>NaN</td>\n",
       "      <td>NaN</td>\n",
       "      <td>NaN</td>\n",
       "      <td>NaN</td>\n",
       "      <td>NaN</td>\n",
       "      <td>NaN</td>\n",
       "    </tr>\n",
       "    <tr>\n",
       "      <th>0061097853</th>\n",
       "      <td>NaN</td>\n",
       "      <td>NaN</td>\n",
       "      <td>NaN</td>\n",
       "      <td>NaN</td>\n",
       "      <td>NaN</td>\n",
       "      <td>NaN</td>\n",
       "      <td>NaN</td>\n",
       "      <td>NaN</td>\n",
       "      <td>NaN</td>\n",
       "      <td>NaN</td>\n",
       "      <td>...</td>\n",
       "      <td>NaN</td>\n",
       "      <td>NaN</td>\n",
       "      <td>NaN</td>\n",
       "      <td>NaN</td>\n",
       "      <td>NaN</td>\n",
       "      <td>NaN</td>\n",
       "      <td>NaN</td>\n",
       "      <td>NaN</td>\n",
       "      <td>NaN</td>\n",
       "      <td>NaN</td>\n",
       "    </tr>\n",
       "    <tr>\n",
       "      <th>0061097861</th>\n",
       "      <td>NaN</td>\n",
       "      <td>NaN</td>\n",
       "      <td>NaN</td>\n",
       "      <td>NaN</td>\n",
       "      <td>NaN</td>\n",
       "      <td>NaN</td>\n",
       "      <td>NaN</td>\n",
       "      <td>NaN</td>\n",
       "      <td>NaN</td>\n",
       "      <td>NaN</td>\n",
       "      <td>...</td>\n",
       "      <td>NaN</td>\n",
       "      <td>NaN</td>\n",
       "      <td>NaN</td>\n",
       "      <td>NaN</td>\n",
       "      <td>NaN</td>\n",
       "      <td>NaN</td>\n",
       "      <td>NaN</td>\n",
       "      <td>NaN</td>\n",
       "      <td>NaN</td>\n",
       "      <td>NaN</td>\n",
       "    </tr>\n",
       "    <tr>\n",
       "      <th>0061098035</th>\n",
       "      <td>NaN</td>\n",
       "      <td>NaN</td>\n",
       "      <td>NaN</td>\n",
       "      <td>NaN</td>\n",
       "      <td>NaN</td>\n",
       "      <td>NaN</td>\n",
       "      <td>NaN</td>\n",
       "      <td>NaN</td>\n",
       "      <td>NaN</td>\n",
       "      <td>NaN</td>\n",
       "      <td>...</td>\n",
       "      <td>NaN</td>\n",
       "      <td>NaN</td>\n",
       "      <td>NaN</td>\n",
       "      <td>NaN</td>\n",
       "      <td>NaN</td>\n",
       "      <td>NaN</td>\n",
       "      <td>0.0</td>\n",
       "      <td>NaN</td>\n",
       "      <td>NaN</td>\n",
       "      <td>NaN</td>\n",
       "    </tr>\n",
       "    <tr>\n",
       "      <th>0061098361</th>\n",
       "      <td>NaN</td>\n",
       "      <td>NaN</td>\n",
       "      <td>NaN</td>\n",
       "      <td>NaN</td>\n",
       "      <td>NaN</td>\n",
       "      <td>NaN</td>\n",
       "      <td>NaN</td>\n",
       "      <td>NaN</td>\n",
       "      <td>NaN</td>\n",
       "      <td>NaN</td>\n",
       "      <td>...</td>\n",
       "      <td>NaN</td>\n",
       "      <td>NaN</td>\n",
       "      <td>NaN</td>\n",
       "      <td>NaN</td>\n",
       "      <td>NaN</td>\n",
       "      <td>NaN</td>\n",
       "      <td>0.0</td>\n",
       "      <td>NaN</td>\n",
       "      <td>NaN</td>\n",
       "      <td>NaN</td>\n",
       "    </tr>\n",
       "  </tbody>\n",
       "</table>\n",
       "<p>100 rows × 100 columns</p>\n",
       "</div>"
      ],
      "text/plain": [
       "User-ID     254    507    882    1424   1435   1733   1903   2033   2110   \\\n",
       "ISBN                                                                        \n",
       "000649840X    NaN    NaN    NaN    NaN    NaN    NaN    NaN    NaN    NaN   \n",
       "002026478X    NaN    NaN    NaN    NaN    NaN    NaN    NaN    NaN    NaN   \n",
       "0020442203    NaN    NaN    NaN    NaN    NaN    NaN    NaN    NaN    NaN   \n",
       "002542730X    NaN    NaN    NaN    NaN    NaN    NaN    NaN    NaN    NaN   \n",
       "0028604199    NaN    NaN    NaN    NaN    NaN    NaN    NaN    NaN    NaN   \n",
       "...           ...    ...    ...    ...    ...    ...    ...    ...    ...   \n",
       "0061097659    NaN    NaN    NaN    NaN    NaN    NaN    NaN    NaN    NaN   \n",
       "0061097853    NaN    NaN    NaN    NaN    NaN    NaN    NaN    NaN    NaN   \n",
       "0061097861    NaN    NaN    NaN    NaN    NaN    NaN    NaN    NaN    NaN   \n",
       "0061098035    NaN    NaN    NaN    NaN    NaN    NaN    NaN    NaN    NaN   \n",
       "0061098361    NaN    NaN    NaN    NaN    NaN    NaN    NaN    NaN    NaN   \n",
       "\n",
       "User-ID     2276   ...  16161  16413  16488  16601  16634  16721  16795  \\\n",
       "ISBN               ...                                                    \n",
       "000649840X    NaN  ...    NaN    NaN    NaN    NaN    NaN    NaN    NaN   \n",
       "002026478X    NaN  ...    NaN    NaN    0.0    NaN    NaN    NaN    NaN   \n",
       "0020442203    NaN  ...    NaN    NaN    NaN    NaN    9.0    NaN    NaN   \n",
       "002542730X    NaN  ...    NaN    NaN    NaN    NaN    NaN    NaN    0.0   \n",
       "0028604199    NaN  ...    NaN    NaN    NaN    NaN    NaN    NaN    NaN   \n",
       "...           ...  ...    ...    ...    ...    ...    ...    ...    ...   \n",
       "0061097659    NaN  ...    NaN    NaN    NaN    NaN    NaN    NaN    NaN   \n",
       "0061097853    NaN  ...    NaN    NaN    NaN    NaN    NaN    NaN    NaN   \n",
       "0061097861    NaN  ...    NaN    NaN    NaN    NaN    NaN    NaN    NaN   \n",
       "0061098035    NaN  ...    NaN    NaN    NaN    NaN    NaN    NaN    0.0   \n",
       "0061098361    NaN  ...    NaN    NaN    NaN    NaN    NaN    NaN    0.0   \n",
       "\n",
       "User-ID     16916  16943  16966  \n",
       "ISBN                             \n",
       "000649840X    NaN    NaN    NaN  \n",
       "002026478X    NaN    NaN    NaN  \n",
       "0020442203    NaN    NaN    NaN  \n",
       "002542730X    NaN    NaN    NaN  \n",
       "0028604199    NaN    NaN    NaN  \n",
       "...           ...    ...    ...  \n",
       "0061097659    NaN    NaN    NaN  \n",
       "0061097853    NaN    NaN    NaN  \n",
       "0061097861    NaN    NaN    NaN  \n",
       "0061098035    NaN    NaN    NaN  \n",
       "0061098361    NaN    NaN    NaN  \n",
       "\n",
       "[100 rows x 100 columns]"
      ]
     },
     "execution_count": 26,
     "metadata": {},
     "output_type": "execute_result"
    }
   ],
   "source": [
    "piv_table.iloc[:100, :100]"
   ]
  },
  {
   "cell_type": "markdown",
   "id": "845fda95",
   "metadata": {
    "papermill": {
     "duration": 0.011818,
     "end_time": "2023-01-17T16:32:05.867229",
     "exception": false,
     "start_time": "2023-01-17T16:32:05.855411",
     "status": "completed"
    },
    "tags": []
   },
   "source": [
    "As you can see it is a very sparse table with most values as NaN. We will replace Nan to 0 to logically define that if  user A has given a rating of 0 we will not recommend that to similar users. This is true if user A has not read the book as well."
   ]
  },
  {
   "cell_type": "code",
   "execution_count": 27,
   "id": "c991444b",
   "metadata": {
    "execution": {
     "iopub.execute_input": "2023-01-17T16:32:05.893962Z",
     "iopub.status.busy": "2023-01-17T16:32:05.892895Z",
     "iopub.status.idle": "2023-01-17T16:32:05.911858Z",
     "shell.execute_reply": "2023-01-17T16:32:05.910539Z"
    },
    "papermill": {
     "duration": 0.035256,
     "end_time": "2023-01-17T16:32:05.914210",
     "exception": false,
     "start_time": "2023-01-17T16:32:05.878954",
     "status": "completed"
    },
    "tags": []
   },
   "outputs": [],
   "source": [
    "piv_table = piv_table.fillna(0)"
   ]
  },
  {
   "cell_type": "code",
   "execution_count": 28,
   "id": "75274a76",
   "metadata": {
    "execution": {
     "iopub.execute_input": "2023-01-17T16:32:05.940368Z",
     "iopub.status.busy": "2023-01-17T16:32:05.940000Z",
     "iopub.status.idle": "2023-01-17T16:32:05.958378Z",
     "shell.execute_reply": "2023-01-17T16:32:05.957293Z"
    },
    "papermill": {
     "duration": 0.033845,
     "end_time": "2023-01-17T16:32:05.960584",
     "exception": false,
     "start_time": "2023-01-17T16:32:05.926739",
     "status": "completed"
    },
    "tags": []
   },
   "outputs": [
    {
     "data": {
      "text/plain": [
       "0"
      ]
     },
     "execution_count": 28,
     "metadata": {},
     "output_type": "execute_result"
    }
   ],
   "source": [
    "pd.DataFrame(piv_table).isnull().sum().sum()"
   ]
  },
  {
   "cell_type": "code",
   "execution_count": 29,
   "id": "628c324a",
   "metadata": {
    "execution": {
     "iopub.execute_input": "2023-01-17T16:32:05.987820Z",
     "iopub.status.busy": "2023-01-17T16:32:05.987122Z",
     "iopub.status.idle": "2023-01-17T16:32:07.068828Z",
     "shell.execute_reply": "2023-01-17T16:32:07.067712Z"
    },
    "papermill": {
     "duration": 1.098188,
     "end_time": "2023-01-17T16:32:07.071434",
     "exception": false,
     "start_time": "2023-01-17T16:32:05.973246",
     "status": "completed"
    },
    "tags": []
   },
   "outputs": [
    {
     "data": {
      "text/plain": [
       "NearestNeighbors(algorithm='brute')"
      ]
     },
     "execution_count": 29,
     "metadata": {},
     "output_type": "execute_result"
    }
   ],
   "source": [
    "from sklearn.neighbors import NearestNeighbors\n",
    "model = NearestNeighbors(algorithm='brute')\n",
    "model.fit(piv_table)"
   ]
  },
  {
   "cell_type": "markdown",
   "id": "2b569ff2",
   "metadata": {
    "papermill": {
     "duration": 0.012817,
     "end_time": "2023-01-17T16:32:07.097112",
     "exception": false,
     "start_time": "2023-01-17T16:32:07.084295",
     "status": "completed"
    },
    "tags": []
   },
   "source": [
    "Let's list a few books at random and see which one wwe know. "
   ]
  },
  {
   "cell_type": "code",
   "execution_count": 30,
   "id": "8e548670",
   "metadata": {
    "execution": {
     "iopub.execute_input": "2023-01-17T16:32:07.124620Z",
     "iopub.status.busy": "2023-01-17T16:32:07.123524Z",
     "iopub.status.idle": "2023-01-17T16:32:07.144853Z",
     "shell.execute_reply": "2023-01-17T16:32:07.143751Z"
    },
    "papermill": {
     "duration": 0.037271,
     "end_time": "2023-01-17T16:32:07.146924",
     "exception": false,
     "start_time": "2023-01-17T16:32:07.109653",
     "status": "completed"
    },
    "tags": []
   },
   "outputs": [
    {
     "data": {
      "text/html": [
       "<div>\n",
       "<style scoped>\n",
       "    .dataframe tbody tr th:only-of-type {\n",
       "        vertical-align: middle;\n",
       "    }\n",
       "\n",
       "    .dataframe tbody tr th {\n",
       "        vertical-align: top;\n",
       "    }\n",
       "\n",
       "    .dataframe thead th {\n",
       "        text-align: right;\n",
       "    }\n",
       "</style>\n",
       "<table border=\"1\" class=\"dataframe\">\n",
       "  <thead>\n",
       "    <tr style=\"text-align: right;\">\n",
       "      <th></th>\n",
       "      <th>User-ID</th>\n",
       "      <th>ISBN</th>\n",
       "      <th>Book-Rating</th>\n",
       "      <th>Book-Title</th>\n",
       "      <th>Book-Author</th>\n",
       "      <th>Year-Of-Publication</th>\n",
       "      <th>Publisher</th>\n",
       "    </tr>\n",
       "  </thead>\n",
       "  <tbody>\n",
       "    <tr>\n",
       "      <th>145745</th>\n",
       "      <td>19085</td>\n",
       "      <td>042513525X</td>\n",
       "      <td>8</td>\n",
       "      <td>Hideaway</td>\n",
       "      <td>Dean R. Koontz</td>\n",
       "      <td>1992</td>\n",
       "      <td>Berkley Publishing Group</td>\n",
       "    </tr>\n",
       "    <tr>\n",
       "      <th>195477</th>\n",
       "      <td>204864</td>\n",
       "      <td>0441569595</td>\n",
       "      <td>0</td>\n",
       "      <td>Neuromancer (Remembering Tomorrow)</td>\n",
       "      <td>William Gibson</td>\n",
       "      <td>1995</td>\n",
       "      <td>Ace Books</td>\n",
       "    </tr>\n",
       "    <tr>\n",
       "      <th>259975</th>\n",
       "      <td>235105</td>\n",
       "      <td>0425098648</td>\n",
       "      <td>0</td>\n",
       "      <td>Night Chills</td>\n",
       "      <td>Dean R. Koontz</td>\n",
       "      <td>1996</td>\n",
       "      <td>Berkley Publishing Group</td>\n",
       "    </tr>\n",
       "    <tr>\n",
       "      <th>190733</th>\n",
       "      <td>76626</td>\n",
       "      <td>0671023616</td>\n",
       "      <td>0</td>\n",
       "      <td>Postmortem (Kay Scarpetta Mysteries (Paperback))</td>\n",
       "      <td>Patricia Cornwell</td>\n",
       "      <td>1998</td>\n",
       "      <td>Pocket</td>\n",
       "    </tr>\n",
       "    <tr>\n",
       "      <th>57506</th>\n",
       "      <td>274301</td>\n",
       "      <td>0449221482</td>\n",
       "      <td>0</td>\n",
       "      <td>J Is for Judgment</td>\n",
       "      <td>Sue Grafton</td>\n",
       "      <td>1999</td>\n",
       "      <td>Fawcett Books</td>\n",
       "    </tr>\n",
       "    <tr>\n",
       "      <th>...</th>\n",
       "      <td>...</td>\n",
       "      <td>...</td>\n",
       "      <td>...</td>\n",
       "      <td>...</td>\n",
       "      <td>...</td>\n",
       "      <td>...</td>\n",
       "      <td>...</td>\n",
       "    </tr>\n",
       "    <tr>\n",
       "      <th>5454</th>\n",
       "      <td>84024</td>\n",
       "      <td>044020562X</td>\n",
       "      <td>8</td>\n",
       "      <td>One</td>\n",
       "      <td>Richard Bach</td>\n",
       "      <td>1989</td>\n",
       "      <td>Dell</td>\n",
       "    </tr>\n",
       "    <tr>\n",
       "      <th>155982</th>\n",
       "      <td>228764</td>\n",
       "      <td>0515128546</td>\n",
       "      <td>0</td>\n",
       "      <td>Tears of the Moon (Irish Trilogy)</td>\n",
       "      <td>Nora Roberts</td>\n",
       "      <td>2000</td>\n",
       "      <td>Jove Books</td>\n",
       "    </tr>\n",
       "    <tr>\n",
       "      <th>45422</th>\n",
       "      <td>203075</td>\n",
       "      <td>0140067477</td>\n",
       "      <td>0</td>\n",
       "      <td>The Tao of Pooh</td>\n",
       "      <td>Benjamin Hoff</td>\n",
       "      <td>1983</td>\n",
       "      <td>Penguin Books</td>\n",
       "    </tr>\n",
       "    <tr>\n",
       "      <th>246358</th>\n",
       "      <td>105979</td>\n",
       "      <td>1592400876</td>\n",
       "      <td>0</td>\n",
       "      <td>Eats, Shoots &amp;amp; Leaves: The Zero Tolerance ...</td>\n",
       "      <td>Lynne Truss</td>\n",
       "      <td>2004</td>\n",
       "      <td>Gotham Books</td>\n",
       "    </tr>\n",
       "    <tr>\n",
       "      <th>251973</th>\n",
       "      <td>129716</td>\n",
       "      <td>0060987529</td>\n",
       "      <td>0</td>\n",
       "      <td>Confessions of an Ugly Stepsister : A Novel</td>\n",
       "      <td>Gregory Maguire</td>\n",
       "      <td>2000</td>\n",
       "      <td>Regan Books</td>\n",
       "    </tr>\n",
       "  </tbody>\n",
       "</table>\n",
       "<p>117 rows × 7 columns</p>\n",
       "</div>"
      ],
      "text/plain": [
       "        User-ID        ISBN  Book-Rating  \\\n",
       "145745    19085  042513525X            8   \n",
       "195477   204864  0441569595            0   \n",
       "259975   235105  0425098648            0   \n",
       "190733    76626  0671023616            0   \n",
       "57506    274301  0449221482            0   \n",
       "...         ...         ...          ...   \n",
       "5454      84024  044020562X            8   \n",
       "155982   228764  0515128546            0   \n",
       "45422    203075  0140067477            0   \n",
       "246358   105979  1592400876            0   \n",
       "251973   129716  0060987529            0   \n",
       "\n",
       "                                               Book-Title        Book-Author  \\\n",
       "145745                                           Hideaway     Dean R. Koontz   \n",
       "195477                 Neuromancer (Remembering Tomorrow)     William Gibson   \n",
       "259975                                       Night Chills     Dean R. Koontz   \n",
       "190733   Postmortem (Kay Scarpetta Mysteries (Paperback))  Patricia Cornwell   \n",
       "57506                                   J Is for Judgment        Sue Grafton   \n",
       "...                                                   ...                ...   \n",
       "5454                                                  One       Richard Bach   \n",
       "155982                  Tears of the Moon (Irish Trilogy)       Nora Roberts   \n",
       "45422                                     The Tao of Pooh      Benjamin Hoff   \n",
       "246358  Eats, Shoots &amp; Leaves: The Zero Tolerance ...        Lynne Truss   \n",
       "251973        Confessions of an Ugly Stepsister : A Novel    Gregory Maguire   \n",
       "\n",
       "       Year-Of-Publication                 Publisher  \n",
       "145745                1992  Berkley Publishing Group  \n",
       "195477                1995                 Ace Books  \n",
       "259975                1996  Berkley Publishing Group  \n",
       "190733                1998                    Pocket  \n",
       "57506                 1999             Fawcett Books  \n",
       "...                    ...                       ...  \n",
       "5454                  1989                      Dell  \n",
       "155982                2000                Jove Books  \n",
       "45422                 1983             Penguin Books  \n",
       "246358                2004              Gotham Books  \n",
       "251973                2000               Regan Books  \n",
       "\n",
       "[117 rows x 7 columns]"
      ]
     },
     "execution_count": 30,
     "metadata": {},
     "output_type": "execute_result"
    }
   ],
   "source": [
    "ratings.sample(frac = 0.001)"
   ]
  },
  {
   "cell_type": "code",
   "execution_count": null,
   "id": "f21463e9",
   "metadata": {
    "papermill": {
     "duration": 0.012574,
     "end_time": "2023-01-17T16:32:07.172416",
     "exception": false,
     "start_time": "2023-01-17T16:32:07.159842",
     "status": "completed"
    },
    "tags": []
   },
   "outputs": [],
   "source": []
  },
  {
   "cell_type": "markdown",
   "id": "cc4f29d5",
   "metadata": {
    "papermill": {
     "duration": 0.012307,
     "end_time": "2023-01-17T16:32:07.197375",
     "exception": false,
     "start_time": "2023-01-17T16:32:07.185068",
     "status": "completed"
    },
    "tags": []
   },
   "source": []
  },
  {
   "cell_type": "markdown",
   "id": "f3cf3a64",
   "metadata": {
    "papermill": {
     "duration": 0.012445,
     "end_time": "2023-01-17T16:32:07.222731",
     "exception": false,
     "start_time": "2023-01-17T16:32:07.210286",
     "status": "completed"
    },
    "tags": []
   },
   "source": [
    "I had to sample multiple times to get a book that I have read. 'The Fellowship of the Ring' with ISBN 0618002227 at index 196979"
   ]
  },
  {
   "cell_type": "markdown",
   "id": "aac2e806",
   "metadata": {
    "papermill": {
     "duration": 0.012075,
     "end_time": "2023-01-17T16:32:07.247160",
     "exception": false,
     "start_time": "2023-01-17T16:32:07.235085",
     "status": "completed"
    },
    "tags": []
   },
   "source": []
  },
  {
   "cell_type": "code",
   "execution_count": 31,
   "id": "f0aa35f8",
   "metadata": {
    "execution": {
     "iopub.execute_input": "2023-01-17T16:32:07.274188Z",
     "iopub.status.busy": "2023-01-17T16:32:07.273166Z",
     "iopub.status.idle": "2023-01-17T16:32:07.297684Z",
     "shell.execute_reply": "2023-01-17T16:32:07.296630Z"
    },
    "papermill": {
     "duration": 0.040157,
     "end_time": "2023-01-17T16:32:07.299756",
     "exception": false,
     "start_time": "2023-01-17T16:32:07.259599",
     "status": "completed"
    },
    "tags": []
   },
   "outputs": [
    {
     "data": {
      "text/html": [
       "<div>\n",
       "<style scoped>\n",
       "    .dataframe tbody tr th:only-of-type {\n",
       "        vertical-align: middle;\n",
       "    }\n",
       "\n",
       "    .dataframe tbody tr th {\n",
       "        vertical-align: top;\n",
       "    }\n",
       "\n",
       "    .dataframe thead th {\n",
       "        text-align: right;\n",
       "    }\n",
       "</style>\n",
       "<table border=\"1\" class=\"dataframe\">\n",
       "  <thead>\n",
       "    <tr style=\"text-align: right;\">\n",
       "      <th>User-ID</th>\n",
       "      <th>254</th>\n",
       "      <th>507</th>\n",
       "      <th>882</th>\n",
       "      <th>1424</th>\n",
       "      <th>1435</th>\n",
       "      <th>1733</th>\n",
       "      <th>1903</th>\n",
       "      <th>2033</th>\n",
       "      <th>2110</th>\n",
       "      <th>2276</th>\n",
       "      <th>...</th>\n",
       "      <th>276018</th>\n",
       "      <th>276463</th>\n",
       "      <th>276680</th>\n",
       "      <th>276925</th>\n",
       "      <th>277427</th>\n",
       "      <th>277478</th>\n",
       "      <th>277639</th>\n",
       "      <th>278137</th>\n",
       "      <th>278188</th>\n",
       "      <th>278418</th>\n",
       "    </tr>\n",
       "    <tr>\n",
       "      <th>ISBN</th>\n",
       "      <th></th>\n",
       "      <th></th>\n",
       "      <th></th>\n",
       "      <th></th>\n",
       "      <th></th>\n",
       "      <th></th>\n",
       "      <th></th>\n",
       "      <th></th>\n",
       "      <th></th>\n",
       "      <th></th>\n",
       "      <th></th>\n",
       "      <th></th>\n",
       "      <th></th>\n",
       "      <th></th>\n",
       "      <th></th>\n",
       "      <th></th>\n",
       "      <th></th>\n",
       "      <th></th>\n",
       "      <th></th>\n",
       "      <th></th>\n",
       "      <th></th>\n",
       "    </tr>\n",
       "  </thead>\n",
       "  <tbody>\n",
       "    <tr>\n",
       "      <th>0618002227</th>\n",
       "      <td>8.0</td>\n",
       "      <td>0.0</td>\n",
       "      <td>0.0</td>\n",
       "      <td>0.0</td>\n",
       "      <td>0.0</td>\n",
       "      <td>0.0</td>\n",
       "      <td>0.0</td>\n",
       "      <td>0.0</td>\n",
       "      <td>0.0</td>\n",
       "      <td>0.0</td>\n",
       "      <td>...</td>\n",
       "      <td>0.0</td>\n",
       "      <td>0.0</td>\n",
       "      <td>0.0</td>\n",
       "      <td>0.0</td>\n",
       "      <td>0.0</td>\n",
       "      <td>0.0</td>\n",
       "      <td>0.0</td>\n",
       "      <td>0.0</td>\n",
       "      <td>0.0</td>\n",
       "      <td>0.0</td>\n",
       "    </tr>\n",
       "  </tbody>\n",
       "</table>\n",
       "<p>1 rows × 1793 columns</p>\n",
       "</div>"
      ],
      "text/plain": [
       "User-ID     254     507     882     1424    1435    1733    1903    2033    \\\n",
       "ISBN                                                                         \n",
       "0618002227     8.0     0.0     0.0     0.0     0.0     0.0     0.0     0.0   \n",
       "\n",
       "User-ID     2110    2276    ...  276018  276463  276680  276925  277427  \\\n",
       "ISBN                        ...                                           \n",
       "0618002227     0.0     0.0  ...     0.0     0.0     0.0     0.0     0.0   \n",
       "\n",
       "User-ID     277478  277639  278137  278188  278418  \n",
       "ISBN                                                \n",
       "0618002227     0.0     0.0     0.0     0.0     0.0  \n",
       "\n",
       "[1 rows x 1793 columns]"
      ]
     },
     "execution_count": 31,
     "metadata": {},
     "output_type": "execute_result"
    }
   ],
   "source": [
    "piv_table[piv_table.index == '0618002227']"
   ]
  },
  {
   "cell_type": "code",
   "execution_count": 32,
   "id": "16bfc925",
   "metadata": {
    "execution": {
     "iopub.execute_input": "2023-01-17T16:32:07.327558Z",
     "iopub.status.busy": "2023-01-17T16:32:07.327212Z",
     "iopub.status.idle": "2023-01-17T16:32:07.332786Z",
     "shell.execute_reply": "2023-01-17T16:32:07.331888Z"
    },
    "papermill": {
     "duration": 0.022263,
     "end_time": "2023-01-17T16:32:07.335029",
     "exception": false,
     "start_time": "2023-01-17T16:32:07.312766",
     "status": "completed"
    },
    "tags": []
   },
   "outputs": [],
   "source": [
    "test_book = piv_table[piv_table.index == '0618002227'].values"
   ]
  },
  {
   "cell_type": "code",
   "execution_count": 33,
   "id": "a948078c",
   "metadata": {
    "execution": {
     "iopub.execute_input": "2023-01-17T16:32:07.362104Z",
     "iopub.status.busy": "2023-01-17T16:32:07.361733Z",
     "iopub.status.idle": "2023-01-17T16:32:07.368427Z",
     "shell.execute_reply": "2023-01-17T16:32:07.367412Z"
    },
    "papermill": {
     "duration": 0.022721,
     "end_time": "2023-01-17T16:32:07.370601",
     "exception": false,
     "start_time": "2023-01-17T16:32:07.347880",
     "status": "completed"
    },
    "tags": []
   },
   "outputs": [
    {
     "data": {
      "text/plain": [
       "array([[8., 0., 0., ..., 0., 0., 0.]])"
      ]
     },
     "execution_count": 33,
     "metadata": {},
     "output_type": "execute_result"
    }
   ],
   "source": [
    "test_book"
   ]
  },
  {
   "cell_type": "code",
   "execution_count": 34,
   "id": "96866c7e",
   "metadata": {
    "execution": {
     "iopub.execute_input": "2023-01-17T16:32:07.398481Z",
     "iopub.status.busy": "2023-01-17T16:32:07.398124Z",
     "iopub.status.idle": "2023-01-17T16:32:07.421749Z",
     "shell.execute_reply": "2023-01-17T16:32:07.419952Z"
    },
    "papermill": {
     "duration": 0.043337,
     "end_time": "2023-01-17T16:32:07.427001",
     "exception": false,
     "start_time": "2023-01-17T16:32:07.383664",
     "status": "completed"
    },
    "tags": []
   },
   "outputs": [
    {
     "data": {
      "text/plain": [
       "(array([[ 0.        , 41.76122604, 41.78516483, 41.78516483, 41.86884283]]),\n",
       " array([[1626, 1001, 2088, 2098, 1299]]))"
      ]
     },
     "execution_count": 34,
     "metadata": {},
     "output_type": "execute_result"
    }
   ],
   "source": [
    "model.kneighbors(test_book)"
   ]
  },
  {
   "cell_type": "markdown",
   "id": "adb0b5a2",
   "metadata": {
    "papermill": {
     "duration": 0.033875,
     "end_time": "2023-01-17T16:32:07.495582",
     "exception": false,
     "start_time": "2023-01-17T16:32:07.461707",
     "status": "completed"
    },
    "tags": []
   },
   "source": [
    "From the doc we are getting distances and the "
   ]
  },
  {
   "cell_type": "code",
   "execution_count": 35,
   "id": "de0ae996",
   "metadata": {
    "execution": {
     "iopub.execute_input": "2023-01-17T16:32:07.546309Z",
     "iopub.status.busy": "2023-01-17T16:32:07.545530Z",
     "iopub.status.idle": "2023-01-17T16:32:07.560715Z",
     "shell.execute_reply": "2023-01-17T16:32:07.559150Z"
    },
    "papermill": {
     "duration": 0.035396,
     "end_time": "2023-01-17T16:32:07.565444",
     "exception": false,
     "start_time": "2023-01-17T16:32:07.530048",
     "status": "completed"
    },
    "tags": []
   },
   "outputs": [],
   "source": [
    "_, closest = model.kneighbors(test_book)"
   ]
  },
  {
   "cell_type": "code",
   "execution_count": 36,
   "id": "8bff4e93",
   "metadata": {
    "execution": {
     "iopub.execute_input": "2023-01-17T16:32:07.638426Z",
     "iopub.status.busy": "2023-01-17T16:32:07.637508Z",
     "iopub.status.idle": "2023-01-17T16:32:07.646955Z",
     "shell.execute_reply": "2023-01-17T16:32:07.645319Z"
    },
    "papermill": {
     "duration": 0.053812,
     "end_time": "2023-01-17T16:32:07.654593",
     "exception": false,
     "start_time": "2023-01-17T16:32:07.600781",
     "status": "completed"
    },
    "tags": []
   },
   "outputs": [
    {
     "name": "stdout",
     "output_type": "stream",
     "text": [
      "[1626 1001 2088 2098 1299]\n"
     ]
    }
   ],
   "source": [
    "for i in closest[:5]:\n",
    "    print(i)"
   ]
  },
  {
   "cell_type": "code",
   "execution_count": 37,
   "id": "4cb5dfdb",
   "metadata": {
    "execution": {
     "iopub.execute_input": "2023-01-17T16:32:07.698194Z",
     "iopub.status.busy": "2023-01-17T16:32:07.697489Z",
     "iopub.status.idle": "2023-01-17T16:32:07.814638Z",
     "shell.execute_reply": "2023-01-17T16:32:07.813000Z"
    },
    "papermill": {
     "duration": 0.134393,
     "end_time": "2023-01-17T16:32:07.817469",
     "exception": false,
     "start_time": "2023-01-17T16:32:07.683076",
     "status": "completed"
    },
    "tags": []
   },
   "outputs": [
    {
     "name": "stdout",
     "output_type": "stream",
     "text": [
      "             ISBN                                         Book-Title  \\\n",
      "12763  0618002227  The Fellowship of the Ring (The Lord of the Ri...   \n",
      "\n",
      "            Book-Author Year-Of-Publication                 Publisher  \n",
      "12763  J. R. R. Tolkien                1999  Houghton Mifflin Company  \n",
      "             ISBN                             Book-Title     Book-Author  \\\n",
      "18670  0440944597  The Chocolate War (Laurel Leaf Books)  ROBERT CORMIER   \n",
      "\n",
      "      Year-Of-Publication    Publisher  \n",
      "18670                1986  Laurel Leaf  \n",
      "            ISBN Book-Title   Book-Author Year-Of-Publication  \\\n",
      "3028  1844262553       Free  Paul Vincent                2003   \n",
      "\n",
      "               Publisher  \n",
      "3028  Upfront Publishing  \n",
      "            ISBN               Book-Title      Book-Author  \\\n",
      "8838  3423202327  MÃ?Â¶rder ohne Gesicht.  Henning Mankell   \n",
      "\n",
      "     Year-Of-Publication Publisher  \n",
      "8838                1999       Dtv  \n",
      "            ISBN    Book-Title   Book-Author Year-Of-Publication    Publisher\n",
      "2227  0451208811  Blood Orchid  Stuart Woods                2003  Signet Book\n"
     ]
    }
   ],
   "source": [
    "for i in closest[:5][0]:\n",
    "    print(books[books['ISBN'] == piv_table.index[i]])"
   ]
  },
  {
   "cell_type": "code",
   "execution_count": null,
   "id": "bcd256b0",
   "metadata": {
    "papermill": {
     "duration": 0.012996,
     "end_time": "2023-01-17T16:32:07.843932",
     "exception": false,
     "start_time": "2023-01-17T16:32:07.830936",
     "status": "completed"
    },
    "tags": []
   },
   "outputs": [],
   "source": []
  }
 ],
 "metadata": {
  "kernelspec": {
   "display_name": "Python 3",
   "language": "python",
   "name": "python3"
  },
  "language_info": {
   "codemirror_mode": {
    "name": "ipython",
    "version": 3
   },
   "file_extension": ".py",
   "mimetype": "text/x-python",
   "name": "python",
   "nbconvert_exporter": "python",
   "pygments_lexer": "ipython3",
   "version": "3.7.5"
  },
  "papermill": {
   "default_parameters": {},
   "duration": 19.343411,
   "end_time": "2023-01-17T16:32:08.677642",
   "environment_variables": {},
   "exception": null,
   "input_path": "__notebook__.ipynb",
   "output_path": "__notebook__.ipynb",
   "parameters": {},
   "start_time": "2023-01-17T16:31:49.334231",
   "version": "2.3.4"
  },
  "vscode": {
   "interpreter": {
    "hash": "0a54084e6b208ee8d1ce3989ffc20924477a5f55f5a43e22e699a6741623861e"
   }
  }
 },
 "nbformat": 4,
 "nbformat_minor": 5
}
